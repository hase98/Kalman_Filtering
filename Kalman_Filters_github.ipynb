{
 "cells": [
  {
   "cell_type": "code",
   "execution_count": 1,
   "metadata": {},
   "outputs": [],
   "source": [
    "import numpy as np\n",
    "import matplotlib.pyplot as plt\n",
    "from numpy.linalg import inv\n",
    "import math"
   ]
  },
  {
   "cell_type": "code",
   "execution_count": 2,
   "metadata": {},
   "outputs": [],
   "source": [
    "def kalmanFilter(A,B,C,u,P0,x0,y,Q,R,dT):\n",
    "    x = np.empty([2,dT+1])\n",
    "    x[:,0] = x0\n",
    "    P = np.empty([2,2,dT+1])\n",
    "    P[:,:,0] = P0\n",
    "    for i in range(dT):\n",
    "            \n",
    "        #prediction\n",
    "        xpred = A@x[:,i] + B@u[:,i]\n",
    "        Ppred = A@P[:,:,i]@A.T + Q\n",
    "        \n",
    "        #update\n",
    "        K = Ppred@C.T@inv(C@Ppred@C.T+R)\n",
    "        x[:,i+1] = xpred+K@(y[:,i]-C@xpred)\n",
    "        P[:,:,i+1] = (np.identity(len(A)) - K@C)@(Ppred)\n",
    "    return x,P"
   ]
  },
  {
   "cell_type": "code",
   "execution_count": 3,
   "metadata": {},
   "outputs": [],
   "source": [
    "def enKF(x0,Sigma0,numOfSamples,dT,A,B,u,y,Q,R,C):\n",
    "    #initializing arrays\n",
    "    n = len(x0)\n",
    "    meanX = np.zeros([d,dT+1]) #making my mean array\n",
    "    meanX[:,0] = x0\n",
    "    X = (np.random.multivariate_normal(x0,Sigma0,numOfSamples)).T #making my samples\n",
    "    #tranposing the samples to make a n x numOfSamples array\n",
    "    for i in range(dT):\n",
    "        #initializing my measured y, control inputs, and noises array\n",
    "        W = np.random.normal(size = (len(A),numOfSamples))\n",
    "        Z = np.random.normal(size = (len(C@x0),numOfSamples))\n",
    "        \n",
    "        if len(u) == 1:\n",
    "            U = np.tile(u[0,i],(1,numOfSamples))\n",
    "        else:\n",
    "            U = np.tile(u[:,i],(numOfSamples))\n",
    "        \n",
    "        if len(y) == 1:\n",
    "            Ymeasure = np.tile(y[0,i],(1,numOfSamples))\n",
    "        else:\n",
    "            Ymeasure = np.tile(y[:,i],(numOfSamples))\n",
    "        \n",
    "        #calculating x' and xhat'\n",
    "        xprime = A@X + B@U +(Q**(1/2)@W)\n",
    "        xhat = np.mean(xprime, axis=1, keepdims = True)\n",
    "        \n",
    "        \n",
    "        Xhat = np.tile(xhat, numOfSamples)\n",
    "    \n",
    "        #calculating y, covariance of y and (x,y), and K\n",
    "        Y = C@xprime + R**(1/2)@Z  \n",
    "        \n",
    "        if len(y) == 1:\n",
    "            yhat = np.mean(Y, keepdims = True)\n",
    "            Yhat = np.tile(yhat, (1,numOfSamples))\n",
    "            \n",
    "        else:\n",
    "            yhat = np.mean(Y, axis = 1, keepdims = True)\n",
    "            Yhat = np.tile(yhat,numOfSamples)\n",
    "        \n",
    "        CovY = (1/(numOfSamples-1))*(Y-Yhat)@(Y-Yhat).T\n",
    "        CovXY = (1/(numOfSamples-1))*(xprime-Xhat)@(Y-Yhat).T\n",
    "        K = CovXY@np.linalg.inv(CovY)\n",
    "        \n",
    "        #updating my x' and getting the mean\n",
    "        Xi = xprime + K@(Ymeasure-Y)\n",
    "        XiMean = np.mean(Xi,axis=1)\n",
    "        \n",
    "        #concatenating it with my meanX\n",
    "        meanX[:,i+1] = XiMean[:]\n",
    "        \n",
    "        #new x array to use in the next loop\n",
    "        X = Xi\n",
    "    return meanX"
   ]
  },
  {
   "cell_type": "code",
   "execution_count": null,
   "metadata": {},
   "outputs": [],
   "source": []
  }
 ],
 "metadata": {
  "kernelspec": {
   "display_name": "Python 3",
   "language": "python",
   "name": "python3"
  },
  "language_info": {
   "codemirror_mode": {
    "name": "ipython",
    "version": 3
   },
   "file_extension": ".py",
   "mimetype": "text/x-python",
   "name": "python",
   "nbconvert_exporter": "python",
   "pygments_lexer": "ipython3",
   "version": "3.8.5"
  }
 },
 "nbformat": 4,
 "nbformat_minor": 4
}
